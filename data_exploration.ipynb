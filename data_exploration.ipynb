{
 "cells": [
  {
   "cell_type": "code",
   "execution_count": 1,
   "metadata": {},
   "outputs": [],
   "source": [
    "import polars as pl"
   ]
  },
  {
   "cell_type": "code",
   "execution_count": 2,
   "metadata": {},
   "outputs": [
    {
     "name": "stdout",
     "output_type": "stream",
     "text": [
      "(30, 3)\n",
      "shape: (5, 3)\n",
      "┌─────────────┬───────────────────────────┬────────────────┐\n",
      "│ hospital_id ┆ hospital_name             ┆ hospital_state │\n",
      "│ ---         ┆ ---                       ┆ ---            │\n",
      "│ i64         ┆ str                       ┆ str            │\n",
      "╞═════════════╪═══════════════════════════╪════════════════╡\n",
      "│ 0           ┆ Wallace-Hamilton          ┆ CO             │\n",
      "│ 1           ┆ Burke, Griffin and Cooper ┆ NC             │\n",
      "│ 2           ┆ Walton LLC                ┆ FL             │\n",
      "│ 3           ┆ Garcia Ltd                ┆ NC             │\n",
      "│ 4           ┆ Jones, Brown and Murray   ┆ NC             │\n",
      "└─────────────┴───────────────────────────┴────────────────┘\n"
     ]
    }
   ],
   "source": [
    "HOSPITAL_DATA_PATH = \"data/hospitals.csv\"\n",
    "\n",
    "data_hospitals = pl.read_csv(HOSPITAL_DATA_PATH)\n",
    "print(data_hospitals.shape)\n",
    "\n",
    "print(data_hospitals.head())"
   ]
  },
  {
   "cell_type": "code",
   "execution_count": 3,
   "metadata": {},
   "outputs": [
    {
     "data": {
      "text/html": [
       "<div><style>\n",
       ".dataframe > thead > tr,\n",
       ".dataframe > tbody > tr {\n",
       "  text-align: right;\n",
       "  white-space: pre-wrap;\n",
       "}\n",
       "</style>\n",
       "<small>shape: (5, 1)</small><table border=\"1\" class=\"dataframe\"><thead><tr><th>hospital_state</th></tr><tr><td>str</td></tr></thead><tbody><tr><td>&quot;FL&quot;</td></tr><tr><td>&quot;CO&quot;</td></tr><tr><td>&quot;GA&quot;</td></tr><tr><td>&quot;TX&quot;</td></tr><tr><td>&quot;NC&quot;</td></tr></tbody></table></div>"
      ],
      "text/plain": [
       "shape: (5, 1)\n",
       "┌────────────────┐\n",
       "│ hospital_state │\n",
       "│ ---            │\n",
       "│ str            │\n",
       "╞════════════════╡\n",
       "│ FL             │\n",
       "│ CO             │\n",
       "│ GA             │\n",
       "│ TX             │\n",
       "│ NC             │\n",
       "└────────────────┘"
      ]
     },
     "execution_count": 3,
     "metadata": {},
     "output_type": "execute_result"
    }
   ],
   "source": [
    "data_hospitals.select(\"hospital_state\").unique()"
   ]
  },
  {
   "cell_type": "code",
   "execution_count": 4,
   "metadata": {},
   "outputs": [
    {
     "name": "stdout",
     "output_type": "stream",
     "text": [
      "(500, 6)\n",
      "shape: (5, 6)\n",
      "┌─────────────────┬──────────────┬───────────────┬────────────────┬────────────────┬───────────────┐\n",
      "│ physician_name  ┆ physician_id ┆ physician_dob ┆ physician_grad ┆ medical_school ┆ salary        │\n",
      "│ ---             ┆ ---          ┆ ---           ┆ _year          ┆ ---            ┆ ---           │\n",
      "│ str             ┆ i64          ┆ str           ┆ ---            ┆ str            ┆ f64           │\n",
      "│                 ┆              ┆               ┆ str            ┆                ┆               │\n",
      "╞═════════════════╪══════════════╪═══════════════╪════════════════╪════════════════╪═══════════════╡\n",
      "│ Joseph Johnson  ┆ 0            ┆ 1970-02-22    ┆ 2000-02-22     ┆ Johns Hopkins  ┆ 309534.155076 │\n",
      "│                 ┆              ┆               ┆                ┆ University     ┆               │\n",
      "│                 ┆              ┆               ┆                ┆ Schoo…         ┆               │\n",
      "│ Jason Williams  ┆ 1            ┆ 1982-12-22    ┆ 2012-12-22     ┆ Mayo Clinic    ┆ 281114.503559 │\n",
      "│                 ┆              ┆               ┆                ┆ Alix School of ┆               │\n",
      "│                 ┆              ┆               ┆                ┆ Med…           ┆               │\n",
      "│ Jesse Gordon    ┆ 2            ┆ 1959-06-03    ┆ 1989-06-03     ┆ David Geffen   ┆ 305845.584636 │\n",
      "│                 ┆              ┆               ┆                ┆ School of      ┆               │\n",
      "│                 ┆              ┆               ┆                ┆ Medicin…       ┆               │\n",
      "│ Heather Smith   ┆ 3            ┆ 1965-06-15    ┆ 1995-06-15     ┆ NYU Grossman   ┆ 295239.766689 │\n",
      "│                 ┆              ┆               ┆                ┆ Medical School ┆               │\n",
      "│ Kayla Hunter    ┆ 4            ┆ 1978-10-19    ┆ 2008-10-19     ┆ David Geffen   ┆ 298751.355201 │\n",
      "│ DDS             ┆              ┆               ┆                ┆ School of      ┆               │\n",
      "│                 ┆              ┆               ┆                ┆ Medicin…       ┆               │\n",
      "└─────────────────┴──────────────┴───────────────┴────────────────┴────────────────┴───────────────┘\n",
      "OrderedDict([('physician_name', String), ('physician_id', Int64), ('physician_dob', String), ('physician_grad_year', String), ('medical_school', String), ('salary', Float64)])\n"
     ]
    }
   ],
   "source": [
    "physicians_data = pl.read_csv(\"data/physicians.csv\")\n",
    "print(physicians_data.shape)\n",
    "\n",
    "print(physicians_data.head())\n",
    "print(physicians_data.schema)"
   ]
  },
  {
   "cell_type": "code",
   "execution_count": 5,
   "metadata": {},
   "outputs": [
    {
     "name": "stdout",
     "output_type": "stream",
     "text": [
      "(5, 2)\n",
      "shape: (5, 2)\n",
      "┌──────────────────┬──────────┐\n",
      "│ payer_name       ┆ payer_id │\n",
      "│ ---              ┆ ---      │\n",
      "│ str              ┆ i64      │\n",
      "╞══════════════════╪══════════╡\n",
      "│ Medicaid         ┆ 0        │\n",
      "│ UnitedHealthcare ┆ 1        │\n",
      "│ Aetna            ┆ 2        │\n",
      "│ Cigna            ┆ 3        │\n",
      "│ Blue Cross       ┆ 4        │\n",
      "└──────────────────┴──────────┘\n"
     ]
    }
   ],
   "source": [
    "payers_data = pl.read_csv(\"data/payers.csv\")\n",
    "print(payers_data.shape)\n",
    "print(payers_data)"
   ]
  },
  {
   "cell_type": "code",
   "execution_count": 6,
   "metadata": {},
   "outputs": [
    {
     "name": "stdout",
     "output_type": "stream",
     "text": [
      "(1005, 6)\n",
      "shape: (5, 6)\n",
      "┌───────────┬──────────┬──────────────────┬──────────────────┬──────────────────┬──────────────────┐\n",
      "│ review_id ┆ visit_id ┆ review           ┆ physician_name   ┆ hospital_name    ┆ patient_name     │\n",
      "│ ---       ┆ ---      ┆ ---              ┆ ---              ┆ ---              ┆ ---              │\n",
      "│ i64       ┆ i64      ┆ str              ┆ str              ┆ str              ┆ str              │\n",
      "╞═══════════╪══════════╪══════════════════╪══════════════════╪══════════════════╪══════════════════╡\n",
      "│ 0         ┆ 6997     ┆ The medical      ┆ Laura Brown      ┆ Wallace-Hamilton ┆ Christy Johnson  │\n",
      "│           ┆          ┆ staff at the     ┆                  ┆                  ┆                  │\n",
      "│           ┆          ┆ hospi…           ┆                  ┆                  ┆                  │\n",
      "│ 9         ┆ 8138     ┆ The hospital's   ┆ Steven Watson    ┆ Wallace-Hamilton ┆ Anna Frazier     │\n",
      "│           ┆          ┆ commitment to p… ┆                  ┆                  ┆                  │\n",
      "│ 11        ┆ 680      ┆ The hospital's   ┆ Chase Mcpherson  ┆ Wallace-Hamilton ┆ Abigail Mitchell │\n",
      "│           ┆          ┆ commitment to p… ┆ Jr.              ┆                  ┆                  │\n",
      "│ 892       ┆ 9846     ┆ I had a positive ┆ Jason Martinez   ┆ Wallace-Hamilton ┆ Kimberly Rivas   │\n",
      "│           ┆          ┆ experience ov…   ┆                  ┆                  ┆                  │\n",
      "│ 822       ┆ 7397     ┆ The medical team ┆ Chelsey Davis    ┆ Wallace-Hamilton ┆ Catherine Yang   │\n",
      "│           ┆          ┆ at the hospit…   ┆                  ┆                  ┆                  │\n",
      "└───────────┴──────────┴──────────────────┴──────────────────┴──────────────────┴──────────────────┘\n"
     ]
    }
   ],
   "source": [
    "reviews_data = pl.read_csv(\"data/reviews.csv\")\n",
    "print(reviews_data.shape)\n",
    "print(reviews_data.head())"
   ]
  },
  {
   "cell_type": "code",
   "execution_count": 7,
   "metadata": {},
   "outputs": [
    {
     "name": "stdout",
     "output_type": "stream",
     "text": [
      "(9998, 15)\n",
      "shape: (5, 15)\n",
      "┌───────────┬───────────┬───────────┬───────────┬───┬───────────┬───────────┬───────────┬──────────┐\n",
      "│ patient_i ┆ date_of_a ┆ billing_a ┆ room_numb ┆ … ┆ chief_com ┆ treatment ┆ primary_d ┆ visit_st │\n",
      "│ d         ┆ dmission  ┆ mount     ┆ er        ┆   ┆ plaint    ┆ _descript ┆ iagnosis  ┆ atus     │\n",
      "│ ---       ┆ ---       ┆ ---       ┆ ---       ┆   ┆ ---       ┆ ion       ┆ ---       ┆ ---      │\n",
      "│ i64       ┆ str       ┆ f64       ┆ i64       ┆   ┆ str       ┆ ---       ┆ str       ┆ str      │\n",
      "│           ┆           ┆           ┆           ┆   ┆           ┆ str       ┆           ┆          │\n",
      "╞═══════════╪═══════════╪═══════════╪═══════════╪═══╪═══════════╪═══════════╪═══════════╪══════════╡\n",
      "│ 0         ┆ 2022-11-1 ┆ 37490.983 ┆ 146       ┆ … ┆ null      ┆ null      ┆ null      ┆ DISCHARG │\n",
      "│           ┆ 7         ┆ 364       ┆           ┆   ┆           ┆           ┆           ┆ ED       │\n",
      "│ 1         ┆ 2023-06-0 ┆ 47304.064 ┆ 404       ┆ … ┆ null      ┆ null      ┆ null      ┆ OPEN     │\n",
      "│           ┆ 1         ┆ 845       ┆           ┆   ┆           ┆           ┆           ┆          │\n",
      "│ 2         ┆ 2019-01-0 ┆ 36874.896 ┆ 292       ┆ … ┆ null      ┆ null      ┆ null      ┆ DISCHARG │\n",
      "│           ┆ 9         ┆ 997       ┆           ┆   ┆           ┆           ┆           ┆ ED       │\n",
      "│ 3         ┆ 2020-05-0 ┆ 23303.322 ┆ 480       ┆ … ┆ null      ┆ null      ┆ null      ┆ DISCHARG │\n",
      "│           ┆ 2         ┆ 092       ┆           ┆   ┆           ┆           ┆           ┆ ED       │\n",
      "│ 4         ┆ 2021-07-0 ┆ 18086.344 ┆ 477       ┆ … ┆ Persisten ┆ Prescribe ┆ J45.909 - ┆ DISCHARG │\n",
      "│           ┆ 9         ┆ 184       ┆           ┆   ┆ t cough   ┆ d a combi ┆ Unspecifi ┆ ED       │\n",
      "│           ┆           ┆           ┆           ┆   ┆ and short ┆ nation of ┆ ed        ┆          │\n",
      "│           ┆           ┆           ┆           ┆   ┆ ness…     ┆ in…       ┆ asthma, … ┆          │\n",
      "└───────────┴───────────┴───────────┴───────────┴───┴───────────┴───────────┴───────────┴──────────┘\n"
     ]
    }
   ],
   "source": [
    "visits_data = pl.read_csv(\"data/visits.csv\")\n",
    "print(visits_data.shape)\n",
    "print(visits_data.head())"
   ]
  },
  {
   "cell_type": "code",
   "execution_count": 8,
   "metadata": {},
   "outputs": [
    {
     "data": {
      "text/html": [
       "<div><style>\n",
       ".dataframe > thead > tr,\n",
       ".dataframe > tbody > tr {\n",
       "  text-align: right;\n",
       "  white-space: pre-wrap;\n",
       "}\n",
       "</style>\n",
       "<small>shape: (9_998, 15)</small><table border=\"1\" class=\"dataframe\"><thead><tr><th>patient_id</th><th>date_of_admission</th><th>billing_amount</th><th>room_number</th><th>admission_type</th><th>discharge_date</th><th>test_results</th><th>visit_id</th><th>physician_id</th><th>payer_id</th><th>hospital_id</th><th>chief_complaint</th><th>treatment_description</th><th>primary_diagnosis</th><th>visit_status</th></tr><tr><td>i64</td><td>str</td><td>f64</td><td>i64</td><td>str</td><td>str</td><td>str</td><td>i64</td><td>i64</td><td>i64</td><td>i64</td><td>str</td><td>str</td><td>str</td><td>str</td></tr></thead><tbody><tr><td>0</td><td>&quot;2022-11-17&quot;</td><td>37490.983364</td><td>146</td><td>&quot;Elective&quot;</td><td>&quot;2022-12-01&quot;</td><td>&quot;Inconclusive&quot;</td><td>0</td><td>102</td><td>1</td><td>0</td><td>null</td><td>null</td><td>null</td><td>&quot;DISCHARGED&quot;</td></tr><tr><td>1</td><td>&quot;2023-06-01&quot;</td><td>47304.064845</td><td>404</td><td>&quot;Emergency&quot;</td><td>null</td><td>&quot;Normal&quot;</td><td>1</td><td>435</td><td>4</td><td>5</td><td>null</td><td>null</td><td>null</td><td>&quot;OPEN&quot;</td></tr><tr><td>2</td><td>&quot;2019-01-09&quot;</td><td>36874.896997</td><td>292</td><td>&quot;Emergency&quot;</td><td>&quot;2019-02-08&quot;</td><td>&quot;Normal&quot;</td><td>2</td><td>348</td><td>2</td><td>6</td><td>null</td><td>null</td><td>null</td><td>&quot;DISCHARGED&quot;</td></tr><tr><td>3</td><td>&quot;2020-05-02&quot;</td><td>23303.322092</td><td>480</td><td>&quot;Urgent&quot;</td><td>&quot;2020-05-03&quot;</td><td>&quot;Abnormal&quot;</td><td>3</td><td>270</td><td>4</td><td>15</td><td>null</td><td>null</td><td>null</td><td>&quot;DISCHARGED&quot;</td></tr><tr><td>4</td><td>&quot;2021-07-09&quot;</td><td>18086.344184</td><td>477</td><td>&quot;Urgent&quot;</td><td>&quot;2021-08-02&quot;</td><td>&quot;Normal&quot;</td><td>4</td><td>106</td><td>2</td><td>29</td><td>&quot;Persistent cough and shortness…</td><td>&quot;Prescribed a combination of in…</td><td>&quot;J45.909 - Unspecified asthma, …</td><td>&quot;DISCHARGED&quot;</td></tr><tr><td>&hellip;</td><td>&hellip;</td><td>&hellip;</td><td>&hellip;</td><td>&hellip;</td><td>&hellip;</td><td>&hellip;</td><td>&hellip;</td><td>&hellip;</td><td>&hellip;</td><td>&hellip;</td><td>&hellip;</td><td>&hellip;</td><td>&hellip;</td><td>&hellip;</td></tr><tr><td>9995</td><td>&quot;2022-07-29&quot;</td><td>39606.840083</td><td>110</td><td>&quot;Elective&quot;</td><td>&quot;2022-08-02&quot;</td><td>&quot;Abnormal&quot;</td><td>9995</td><td>391</td><td>4</td><td>27</td><td>null</td><td>null</td><td>null</td><td>&quot;DISCHARGED&quot;</td></tr><tr><td>9996</td><td>&quot;2022-01-06&quot;</td><td>5995.717488</td><td>244</td><td>&quot;Emergency&quot;</td><td>&quot;2022-01-29&quot;</td><td>&quot;Normal&quot;</td><td>9996</td><td>17</td><td>2</td><td>19</td><td>null</td><td>null</td><td>null</td><td>&quot;DISCHARGED&quot;</td></tr><tr><td>9997</td><td>&quot;2022-07-01&quot;</td><td>49559.202905</td><td>312</td><td>&quot;Elective&quot;</td><td>&quot;2022-07-15&quot;</td><td>&quot;Normal&quot;</td><td>9997</td><td>56</td><td>2</td><td>11</td><td>&quot;Unexplained sadness or crying&quot;</td><td>&quot;Psychological evaluation, coun…</td><td>&quot;F32.9 - Major depressive disor…</td><td>&quot;DISCHARGED&quot;</td></tr><tr><td>9998</td><td>&quot;2020-02-06&quot;</td><td>25236.344761</td><td>420</td><td>&quot;Urgent&quot;</td><td>&quot;2020-02-26&quot;</td><td>&quot;Normal&quot;</td><td>9998</td><td>111</td><td>4</td><td>19</td><td>null</td><td>null</td><td>null</td><td>&quot;DISCHARGED&quot;</td></tr><tr><td>9999</td><td>&quot;2023-03-22&quot;</td><td>37223.965865</td><td>290</td><td>&quot;Emergency&quot;</td><td>&quot;2023-04-15&quot;</td><td>&quot;Abnormal&quot;</td><td>9999</td><td>4</td><td>4</td><td>27</td><td>null</td><td>null</td><td>null</td><td>&quot;DISCHARGED&quot;</td></tr></tbody></table></div>"
      ],
      "text/plain": [
       "shape: (9_998, 15)\n",
       "┌───────────┬───────────┬───────────┬───────────┬───┬───────────┬───────────┬───────────┬──────────┐\n",
       "│ patient_i ┆ date_of_a ┆ billing_a ┆ room_numb ┆ … ┆ chief_com ┆ treatment ┆ primary_d ┆ visit_st │\n",
       "│ d         ┆ dmission  ┆ mount     ┆ er        ┆   ┆ plaint    ┆ _descript ┆ iagnosis  ┆ atus     │\n",
       "│ ---       ┆ ---       ┆ ---       ┆ ---       ┆   ┆ ---       ┆ ion       ┆ ---       ┆ ---      │\n",
       "│ i64       ┆ str       ┆ f64       ┆ i64       ┆   ┆ str       ┆ ---       ┆ str       ┆ str      │\n",
       "│           ┆           ┆           ┆           ┆   ┆           ┆ str       ┆           ┆          │\n",
       "╞═══════════╪═══════════╪═══════════╪═══════════╪═══╪═══════════╪═══════════╪═══════════╪══════════╡\n",
       "│ 0         ┆ 2022-11-1 ┆ 37490.983 ┆ 146       ┆ … ┆ null      ┆ null      ┆ null      ┆ DISCHARG │\n",
       "│           ┆ 7         ┆ 364       ┆           ┆   ┆           ┆           ┆           ┆ ED       │\n",
       "│ 1         ┆ 2023-06-0 ┆ 47304.064 ┆ 404       ┆ … ┆ null      ┆ null      ┆ null      ┆ OPEN     │\n",
       "│           ┆ 1         ┆ 845       ┆           ┆   ┆           ┆           ┆           ┆          │\n",
       "│ 2         ┆ 2019-01-0 ┆ 36874.896 ┆ 292       ┆ … ┆ null      ┆ null      ┆ null      ┆ DISCHARG │\n",
       "│           ┆ 9         ┆ 997       ┆           ┆   ┆           ┆           ┆           ┆ ED       │\n",
       "│ 3         ┆ 2020-05-0 ┆ 23303.322 ┆ 480       ┆ … ┆ null      ┆ null      ┆ null      ┆ DISCHARG │\n",
       "│           ┆ 2         ┆ 092       ┆           ┆   ┆           ┆           ┆           ┆ ED       │\n",
       "│ 4         ┆ 2021-07-0 ┆ 18086.344 ┆ 477       ┆ … ┆ Persisten ┆ Prescribe ┆ J45.909 - ┆ DISCHARG │\n",
       "│           ┆ 9         ┆ 184       ┆           ┆   ┆ t cough   ┆ d a combi ┆ Unspecifi ┆ ED       │\n",
       "│           ┆           ┆           ┆           ┆   ┆ and short ┆ nation of ┆ ed        ┆          │\n",
       "│           ┆           ┆           ┆           ┆   ┆ ness…     ┆ in…       ┆ asthma, … ┆          │\n",
       "│ …         ┆ …         ┆ …         ┆ …         ┆ … ┆ …         ┆ …         ┆ …         ┆ …        │\n",
       "│ 9995      ┆ 2022-07-2 ┆ 39606.840 ┆ 110       ┆ … ┆ null      ┆ null      ┆ null      ┆ DISCHARG │\n",
       "│           ┆ 9         ┆ 083       ┆           ┆   ┆           ┆           ┆           ┆ ED       │\n",
       "│ 9996      ┆ 2022-01-0 ┆ 5995.7174 ┆ 244       ┆ … ┆ null      ┆ null      ┆ null      ┆ DISCHARG │\n",
       "│           ┆ 6         ┆ 88        ┆           ┆   ┆           ┆           ┆           ┆ ED       │\n",
       "│ 9997      ┆ 2022-07-0 ┆ 49559.202 ┆ 312       ┆ … ┆ Unexplain ┆ Psycholog ┆ F32.9 -   ┆ DISCHARG │\n",
       "│           ┆ 1         ┆ 905       ┆           ┆   ┆ ed        ┆ ical eval ┆ Major dep ┆ ED       │\n",
       "│           ┆           ┆           ┆           ┆   ┆ sadness   ┆ uation,   ┆ ressive   ┆          │\n",
       "│           ┆           ┆           ┆           ┆   ┆ or crying ┆ coun…     ┆ disor…    ┆          │\n",
       "│ 9998      ┆ 2020-02-0 ┆ 25236.344 ┆ 420       ┆ … ┆ null      ┆ null      ┆ null      ┆ DISCHARG │\n",
       "│           ┆ 6         ┆ 761       ┆           ┆   ┆           ┆           ┆           ┆ ED       │\n",
       "│ 9999      ┆ 2023-03-2 ┆ 37223.965 ┆ 290       ┆ … ┆ null      ┆ null      ┆ null      ┆ DISCHARG │\n",
       "│           ┆ 2         ┆ 865       ┆           ┆   ┆           ┆           ┆           ┆ ED       │\n",
       "└───────────┴───────────┴───────────┴───────────┴───┴───────────┴───────────┴───────────┴──────────┘"
      ]
     },
     "execution_count": 8,
     "metadata": {},
     "output_type": "execute_result"
    }
   ],
   "source": [
    "visits_data"
   ]
  },
  {
   "cell_type": "code",
   "execution_count": 12,
   "metadata": {},
   "outputs": [
    {
     "data": {
      "text/plain": [
       "1005"
      ]
     },
     "execution_count": 12,
     "metadata": {},
     "output_type": "execute_result"
    }
   ],
   "source": [
    "len(reviews_data)"
   ]
  },
  {
   "cell_type": "markdown",
   "metadata": {},
   "source": []
  },
  {
   "cell_type": "markdown",
   "metadata": {},
   "source": []
  }
 ],
 "metadata": {
  "kernelspec": {
   "display_name": "hotel-llmops-6FGj2mZQ",
   "language": "python",
   "name": "python3"
  },
  "language_info": {
   "codemirror_mode": {
    "name": "ipython",
    "version": 3
   },
   "file_extension": ".py",
   "mimetype": "text/x-python",
   "name": "python",
   "nbconvert_exporter": "python",
   "pygments_lexer": "ipython3",
   "version": "3.10.13"
  }
 },
 "nbformat": 4,
 "nbformat_minor": 2
}
